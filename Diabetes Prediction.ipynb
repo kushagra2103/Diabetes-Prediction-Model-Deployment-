{
 "cells": [
  {
   "cell_type": "code",
   "execution_count": 1,
   "metadata": {},
   "outputs": [
    {
     "name": "stdout",
     "output_type": "stream",
     "text": [
      "Libraries_loaded\n"
     ]
    }
   ],
   "source": [
    "import sagemaker\n",
    "from sagemaker import get_execution_role\n",
    "\n",
    "import numpy as np\n",
    "import pandas as pd\n",
    "\n",
    "import boto3\n",
    "import re\n",
    "\n",
    "print('Libraries_loaded')"
   ]
  },
  {
   "cell_type": "code",
   "execution_count": 2,
   "metadata": {},
   "outputs": [],
   "source": [
    "bucket_name = 'awspracsagemaker'#  bucket name \n",
    "\n",
    "train_data = r'diabetespred/training/'\n",
    "val_data = r'diabetespred/validation/' \n",
    "\n",
    "s3_model_output_location = r's3://{0}/diabetespred/model'.format(bucket_name)\n",
    "s3_training_file_location = r's3://{0}/{1}'.format(bucket_name,train_data)\n",
    "s3_validation_file_location = r's3://{0}/{1}'.format(bucket_name,val_data)"
   ]
  },
  {
   "cell_type": "code",
   "execution_count": 3,
   "metadata": {},
   "outputs": [
    {
     "name": "stdout",
     "output_type": "stream",
     "text": [
      "s3://awspracsagemaker/diabetespred/model\n",
      "s3://awspracsagemaker/diabetespred/training/\n",
      "s3://awspracsagemaker/diabetespred/validation/\n"
     ]
    }
   ],
   "source": [
    "print(s3_model_output_location)\n",
    "print(s3_training_file_location)\n",
    "print(s3_validation_file_location)"
   ]
  },
  {
   "cell_type": "code",
   "execution_count": 10,
   "metadata": {},
   "outputs": [],
   "source": [
    "data = 's3://awspracsagemaker/diabetespred/diabetes.csv'"
   ]
  },
  {
   "cell_type": "code",
   "execution_count": 11,
   "metadata": {},
   "outputs": [
    {
     "data": {
      "text/plain": [
       "(768, 9)"
      ]
     },
     "execution_count": 11,
     "metadata": {},
     "output_type": "execute_result"
    }
   ],
   "source": [
    "df = pd.read_csv(data)\n",
    "df.shape"
   ]
  },
  {
   "cell_type": "code",
   "execution_count": 12,
   "metadata": {},
   "outputs": [
    {
     "data": {
      "text/plain": [
       "['Outcome',\n",
       " 'Pregnancies',\n",
       " 'Glucose',\n",
       " 'BloodPressure',\n",
       " 'SkinThickness',\n",
       " 'Insulin',\n",
       " 'BMI',\n",
       " 'DiabetesPedigreeFunction',\n",
       " 'Age']"
      ]
     },
     "execution_count": 12,
     "metadata": {},
     "output_type": "execute_result"
    }
   ],
   "source": [
    "cols = df.columns.tolist()\n",
    "cols = cols[-1:] + cols[:-1]\n",
    "cols"
   ]
  },
  {
   "cell_type": "code",
   "execution_count": 13,
   "metadata": {},
   "outputs": [
    {
     "data": {
      "text/html": [
       "<div>\n",
       "<style scoped>\n",
       "    .dataframe tbody tr th:only-of-type {\n",
       "        vertical-align: middle;\n",
       "    }\n",
       "\n",
       "    .dataframe tbody tr th {\n",
       "        vertical-align: top;\n",
       "    }\n",
       "\n",
       "    .dataframe thead th {\n",
       "        text-align: right;\n",
       "    }\n",
       "</style>\n",
       "<table border=\"1\" class=\"dataframe\">\n",
       "  <thead>\n",
       "    <tr style=\"text-align: right;\">\n",
       "      <th></th>\n",
       "      <th>Outcome</th>\n",
       "      <th>Pregnancies</th>\n",
       "      <th>Glucose</th>\n",
       "      <th>BloodPressure</th>\n",
       "      <th>SkinThickness</th>\n",
       "      <th>Insulin</th>\n",
       "      <th>BMI</th>\n",
       "      <th>DiabetesPedigreeFunction</th>\n",
       "      <th>Age</th>\n",
       "    </tr>\n",
       "  </thead>\n",
       "  <tbody>\n",
       "    <tr>\n",
       "      <th>0</th>\n",
       "      <td>1</td>\n",
       "      <td>6</td>\n",
       "      <td>148</td>\n",
       "      <td>72</td>\n",
       "      <td>35</td>\n",
       "      <td>0</td>\n",
       "      <td>33.6</td>\n",
       "      <td>0.627</td>\n",
       "      <td>50</td>\n",
       "    </tr>\n",
       "    <tr>\n",
       "      <th>1</th>\n",
       "      <td>0</td>\n",
       "      <td>1</td>\n",
       "      <td>85</td>\n",
       "      <td>66</td>\n",
       "      <td>29</td>\n",
       "      <td>0</td>\n",
       "      <td>26.6</td>\n",
       "      <td>0.351</td>\n",
       "      <td>31</td>\n",
       "    </tr>\n",
       "    <tr>\n",
       "      <th>2</th>\n",
       "      <td>1</td>\n",
       "      <td>8</td>\n",
       "      <td>183</td>\n",
       "      <td>64</td>\n",
       "      <td>0</td>\n",
       "      <td>0</td>\n",
       "      <td>23.3</td>\n",
       "      <td>0.672</td>\n",
       "      <td>32</td>\n",
       "    </tr>\n",
       "    <tr>\n",
       "      <th>3</th>\n",
       "      <td>0</td>\n",
       "      <td>1</td>\n",
       "      <td>89</td>\n",
       "      <td>66</td>\n",
       "      <td>23</td>\n",
       "      <td>94</td>\n",
       "      <td>28.1</td>\n",
       "      <td>0.167</td>\n",
       "      <td>21</td>\n",
       "    </tr>\n",
       "    <tr>\n",
       "      <th>4</th>\n",
       "      <td>1</td>\n",
       "      <td>0</td>\n",
       "      <td>137</td>\n",
       "      <td>40</td>\n",
       "      <td>35</td>\n",
       "      <td>168</td>\n",
       "      <td>43.1</td>\n",
       "      <td>2.288</td>\n",
       "      <td>33</td>\n",
       "    </tr>\n",
       "  </tbody>\n",
       "</table>\n",
       "</div>"
      ],
      "text/plain": [
       "   Outcome  Pregnancies  Glucose  BloodPressure  SkinThickness  Insulin   BMI  \\\n",
       "0        1            6      148             72             35        0  33.6   \n",
       "1        0            1       85             66             29        0  26.6   \n",
       "2        1            8      183             64              0        0  23.3   \n",
       "3        0            1       89             66             23       94  28.1   \n",
       "4        1            0      137             40             35      168  43.1   \n",
       "\n",
       "   DiabetesPedigreeFunction  Age  \n",
       "0                     0.627   50  \n",
       "1                     0.351   31  \n",
       "2                     0.672   32  \n",
       "3                     0.167   21  \n",
       "4                     2.288   33  "
      ]
     },
     "execution_count": 13,
     "metadata": {},
     "output_type": "execute_result"
    }
   ],
   "source": [
    "df = df[cols]\n",
    "df.head()"
   ]
  },
  {
   "cell_type": "code",
   "execution_count": 14,
   "metadata": {},
   "outputs": [],
   "source": [
    "train = df[:629]\n",
    "val = df[629:]"
   ]
  },
  {
   "cell_type": "code",
   "execution_count": 15,
   "metadata": {},
   "outputs": [
    {
     "data": {
      "text/plain": [
       "(629, 9)"
      ]
     },
     "execution_count": 15,
     "metadata": {},
     "output_type": "execute_result"
    }
   ],
   "source": [
    "train.shape"
   ]
  },
  {
   "cell_type": "code",
   "execution_count": 16,
   "metadata": {},
   "outputs": [
    {
     "data": {
      "text/plain": [
       "(139, 9)"
      ]
     },
     "execution_count": 16,
     "metadata": {},
     "output_type": "execute_result"
    }
   ],
   "source": [
    "val.shape"
   ]
  },
  {
   "cell_type": "code",
   "execution_count": 17,
   "metadata": {},
   "outputs": [
    {
     "data": {
      "text/html": [
       "<div>\n",
       "<style scoped>\n",
       "    .dataframe tbody tr th:only-of-type {\n",
       "        vertical-align: middle;\n",
       "    }\n",
       "\n",
       "    .dataframe tbody tr th {\n",
       "        vertical-align: top;\n",
       "    }\n",
       "\n",
       "    .dataframe thead th {\n",
       "        text-align: right;\n",
       "    }\n",
       "</style>\n",
       "<table border=\"1\" class=\"dataframe\">\n",
       "  <thead>\n",
       "    <tr style=\"text-align: right;\">\n",
       "      <th></th>\n",
       "      <th>Outcome</th>\n",
       "      <th>Pregnancies</th>\n",
       "      <th>Glucose</th>\n",
       "      <th>BloodPressure</th>\n",
       "      <th>SkinThickness</th>\n",
       "      <th>Insulin</th>\n",
       "      <th>BMI</th>\n",
       "      <th>DiabetesPedigreeFunction</th>\n",
       "      <th>Age</th>\n",
       "    </tr>\n",
       "  </thead>\n",
       "  <tbody>\n",
       "    <tr>\n",
       "      <th>0</th>\n",
       "      <td>1</td>\n",
       "      <td>6</td>\n",
       "      <td>148</td>\n",
       "      <td>72</td>\n",
       "      <td>35</td>\n",
       "      <td>0</td>\n",
       "      <td>33.6</td>\n",
       "      <td>0.627</td>\n",
       "      <td>50</td>\n",
       "    </tr>\n",
       "    <tr>\n",
       "      <th>1</th>\n",
       "      <td>0</td>\n",
       "      <td>1</td>\n",
       "      <td>85</td>\n",
       "      <td>66</td>\n",
       "      <td>29</td>\n",
       "      <td>0</td>\n",
       "      <td>26.6</td>\n",
       "      <td>0.351</td>\n",
       "      <td>31</td>\n",
       "    </tr>\n",
       "    <tr>\n",
       "      <th>2</th>\n",
       "      <td>1</td>\n",
       "      <td>8</td>\n",
       "      <td>183</td>\n",
       "      <td>64</td>\n",
       "      <td>0</td>\n",
       "      <td>0</td>\n",
       "      <td>23.3</td>\n",
       "      <td>0.672</td>\n",
       "      <td>32</td>\n",
       "    </tr>\n",
       "    <tr>\n",
       "      <th>3</th>\n",
       "      <td>0</td>\n",
       "      <td>1</td>\n",
       "      <td>89</td>\n",
       "      <td>66</td>\n",
       "      <td>23</td>\n",
       "      <td>94</td>\n",
       "      <td>28.1</td>\n",
       "      <td>0.167</td>\n",
       "      <td>21</td>\n",
       "    </tr>\n",
       "    <tr>\n",
       "      <th>4</th>\n",
       "      <td>1</td>\n",
       "      <td>0</td>\n",
       "      <td>137</td>\n",
       "      <td>40</td>\n",
       "      <td>35</td>\n",
       "      <td>168</td>\n",
       "      <td>43.1</td>\n",
       "      <td>2.288</td>\n",
       "      <td>33</td>\n",
       "    </tr>\n",
       "  </tbody>\n",
       "</table>\n",
       "</div>"
      ],
      "text/plain": [
       "   Outcome  Pregnancies  Glucose  BloodPressure  SkinThickness  Insulin   BMI  \\\n",
       "0        1            6      148             72             35        0  33.6   \n",
       "1        0            1       85             66             29        0  26.6   \n",
       "2        1            8      183             64              0        0  23.3   \n",
       "3        0            1       89             66             23       94  28.1   \n",
       "4        1            0      137             40             35      168  43.1   \n",
       "\n",
       "   DiabetesPedigreeFunction  Age  \n",
       "0                     0.627   50  \n",
       "1                     0.351   31  \n",
       "2                     0.672   32  \n",
       "3                     0.167   21  \n",
       "4                     2.288   33  "
      ]
     },
     "execution_count": 17,
     "metadata": {},
     "output_type": "execute_result"
    }
   ],
   "source": [
    "train.head()"
   ]
  },
  {
   "cell_type": "code",
   "execution_count": 18,
   "metadata": {},
   "outputs": [
    {
     "data": {
      "text/plain": [
       "Outcome                     0\n",
       "Pregnancies                 0\n",
       "Glucose                     0\n",
       "BloodPressure               0\n",
       "SkinThickness               0\n",
       "Insulin                     0\n",
       "BMI                         0\n",
       "DiabetesPedigreeFunction    0\n",
       "Age                         0\n",
       "dtype: int64"
      ]
     },
     "execution_count": 18,
     "metadata": {},
     "output_type": "execute_result"
    }
   ],
   "source": [
    "train.isnull().sum()"
   ]
  },
  {
   "cell_type": "code",
   "execution_count": 19,
   "metadata": {},
   "outputs": [],
   "source": [
    "np_train = train.values\n",
    "np_val = val.values"
   ]
  },
  {
   "cell_type": "code",
   "execution_count": 20,
   "metadata": {},
   "outputs": [
    {
     "data": {
      "text/plain": [
       "numpy.ndarray"
      ]
     },
     "execution_count": 20,
     "metadata": {},
     "output_type": "execute_result"
    }
   ],
   "source": [
    "type(np_train)"
   ]
  },
  {
   "cell_type": "code",
   "execution_count": 21,
   "metadata": {},
   "outputs": [],
   "source": [
    "np.savetxt(\"train.csv\", np_train, delimiter=\",\")"
   ]
  },
  {
   "cell_type": "code",
   "execution_count": 22,
   "metadata": {},
   "outputs": [],
   "source": [
    "np.savetxt(\"val.csv\", np_val, delimiter=\",\")"
   ]
  },
  {
   "cell_type": "code",
   "execution_count": 23,
   "metadata": {},
   "outputs": [],
   "source": [
    "def write_to_s3(filename, bucket, key):\n",
    "    with open(filename,'rb') as f: \n",
    "        return boto3.Session().resource('s3').Bucket(bucket).Object(key).upload_fileobj(f)"
   ]
  },
  {
   "cell_type": "code",
   "execution_count": 24,
   "metadata": {},
   "outputs": [],
   "source": [
    "write_to_s3('train.csv', \n",
    "            bucket_name,\n",
    "            train_data + 'train.csv')\n",
    "\n",
    "write_to_s3('val.csv',\n",
    "            bucket_name,\n",
    "            val_data + 'val.csv')"
   ]
  },
  {
   "cell_type": "code",
   "execution_count": 25,
   "metadata": {},
   "outputs": [],
   "source": [
    "sess = sagemaker.Session()"
   ]
  },
  {
   "cell_type": "code",
   "execution_count": 26,
   "metadata": {},
   "outputs": [
    {
     "data": {
      "text/plain": [
       "'arn:aws:iam::753154596552:role/service-role/AmazonSageMaker-ExecutionRole-20200904T164660'"
      ]
     },
     "execution_count": 26,
     "metadata": {},
     "output_type": "execute_result"
    }
   ],
   "source": [
    "role = get_execution_role()\n",
    "role"
   ]
  },
  {
   "cell_type": "code",
   "execution_count": 27,
   "metadata": {},
   "outputs": [
    {
     "name": "stderr",
     "output_type": "stream",
     "text": [
      "'get_image_uri' method will be deprecated in favor of 'ImageURIProvider' class in SageMaker Python SDK v2.\n",
      "There is a more up to date SageMaker XGBoost image. To use the newer image, please set 'repo_version'='1.0-1'. For example:\n",
      "\tget_image_uri(region, 'xgboost', '1.0-1').\n"
     ]
    },
    {
     "name": "stdout",
     "output_type": "stream",
     "text": [
      " SageMaker XGBoost Info :\n",
      "811284229777.dkr.ecr.us-east-1.amazonaws.com/xgboost:latest (us-east-1)\n"
     ]
    }
   ],
   "source": [
    "container = sagemaker.amazon.amazon_estimator.get_image_uri(\n",
    "    sess.boto_region_name,\n",
    "    \"xgboost\", \n",
    "    \"latest\")\n",
    "\n",
    "print(' SageMaker XGBoost Info :\\n{} ({})'.format(container, sess.boto_region_name))"
   ]
  },
  {
   "cell_type": "code",
   "execution_count": 34,
   "metadata": {},
   "outputs": [
    {
     "name": "stderr",
     "output_type": "stream",
     "text": [
      "Parameter image_name will be renamed to image_uri in SageMaker Python SDK v2.\n"
     ]
    }
   ],
   "source": [
    "estimator = sagemaker.estimator.Estimator(\n",
    "    container,\n",
    "    role, \n",
    "    train_instance_count=1, \n",
    "    train_instance_type='ml.m4.xlarge',\n",
    "    output_path=s3_model_output_location,\n",
    "    sagemaker_session=sess,\n",
    "    base_job_name ='v1-xgboost-diabetes')"
   ]
  },
  {
   "cell_type": "code",
   "execution_count": 35,
   "metadata": {},
   "outputs": [],
   "source": [
    "estimator.set_hyperparameters(max_depth=7,\n",
    "                              objective=\"binary:logistic\",num_round=1000)"
   ]
  },
  {
   "cell_type": "code",
   "execution_count": 36,
   "metadata": {},
   "outputs": [
    {
     "data": {
      "text/plain": [
       "{'max_depth': 7, 'objective': 'binary:logistic', 'num_round': 100}"
      ]
     },
     "execution_count": 36,
     "metadata": {},
     "output_type": "execute_result"
    }
   ],
   "source": [
    "estimator.hyperparameters()"
   ]
  },
  {
   "cell_type": "code",
   "execution_count": 37,
   "metadata": {},
   "outputs": [
    {
     "name": "stderr",
     "output_type": "stream",
     "text": [
      "'s3_input' class will be renamed to 'TrainingInput' in SageMaker Python SDK v2.\n",
      "'s3_input' class will be renamed to 'TrainingInput' in SageMaker Python SDK v2.\n"
     ]
    }
   ],
   "source": [
    "training_input_config = sagemaker.session.s3_input(\n",
    "    s3_data=s3_training_file_location,\n",
    "    content_type='csv',\n",
    "    s3_data_type='S3Prefix')\n",
    "\n",
    "validation_input_config = sagemaker.session.s3_input(\n",
    "    s3_data=s3_validation_file_location,\n",
    "    content_type='csv',\n",
    "    s3_data_type='S3Prefix'\n",
    ")\n",
    "\n",
    "data_channels = {'train': training_input_config, 'validation': validation_input_config}"
   ]
  },
  {
   "cell_type": "code",
   "execution_count": 38,
   "metadata": {},
   "outputs": [
    {
     "name": "stdout",
     "output_type": "stream",
     "text": [
      "{'DataSource': {'S3DataSource': {'S3DataType': 'S3Prefix', 'S3Uri': 's3://awspracsagemaker/diabetespred/training/', 'S3DataDistributionType': 'FullyReplicated'}}, 'ContentType': 'csv'}\n",
      "{'DataSource': {'S3DataSource': {'S3DataType': 'S3Prefix', 'S3Uri': 's3://awspracsagemaker/diabetespred/validation/', 'S3DataDistributionType': 'FullyReplicated'}}, 'ContentType': 'csv'}\n"
     ]
    }
   ],
   "source": [
    "print(training_input_config.config)\n",
    "print(validation_input_config.config)"
   ]
  },
  {
   "cell_type": "code",
   "execution_count": 39,
   "metadata": {},
   "outputs": [
    {
     "name": "stdout",
     "output_type": "stream",
     "text": [
      "2020-09-04 18:59:53 Starting - Starting the training job...\n",
      "2020-09-04 18:59:55 Starting - Launching requested ML instances......\n",
      "2020-09-04 19:01:13 Starting - Preparing the instances for training......\n",
      "2020-09-04 19:02:11 Downloading - Downloading input data...\n",
      "2020-09-04 19:02:44 Training - Downloading the training image..\u001b[34mArguments: train\u001b[0m\n",
      "\u001b[34m[2020-09-04:19:03:05:INFO] Running standalone xgboost training.\u001b[0m\n",
      "\u001b[34m[2020-09-04:19:03:05:INFO] File size need to be processed in the node: 0.16mb. Available memory size in the node: 8484.73mb\u001b[0m\n",
      "\u001b[34m[2020-09-04:19:03:05:INFO] Determined delimiter of CSV input is ','\u001b[0m\n",
      "\u001b[34m[19:03:05] S3DistributionType set as FullyReplicated\u001b[0m\n",
      "\u001b[34m[19:03:05] 629x8 matrix with 5032 entries loaded from /opt/ml/input/data/train?format=csv&label_column=0&delimiter=,\u001b[0m\n",
      "\u001b[34m[2020-09-04:19:03:05:INFO] Determined delimiter of CSV input is ','\u001b[0m\n",
      "\u001b[34m[19:03:05] S3DistributionType set as FullyReplicated\u001b[0m\n",
      "\u001b[34m[19:03:05] 139x8 matrix with 1112 entries loaded from /opt/ml/input/data/validation?format=csv&label_column=0&delimiter=,\u001b[0m\n",
      "\u001b[34m[19:03:05] src/tree/updater_prune.cc:74: tree pruning end, 1 roots, 72 extra nodes, 0 pruned nodes, max_depth=7\u001b[0m\n",
      "\u001b[34m[0]#011train-error:0.141494#011validation-error:0.258993\u001b[0m\n",
      "\u001b[34m[19:03:05] src/tree/updater_prune.cc:74: tree pruning end, 1 roots, 72 extra nodes, 0 pruned nodes, max_depth=7\u001b[0m\n",
      "\u001b[34m[1]#011train-error:0.119237#011validation-error:0.23741\u001b[0m\n",
      "\u001b[34m[19:03:05] src/tree/updater_prune.cc:74: tree pruning end, 1 roots, 82 extra nodes, 0 pruned nodes, max_depth=7\u001b[0m\n",
      "\u001b[34m[2]#011train-error:0.085851#011validation-error:0.244604\u001b[0m\n",
      "\u001b[34m[19:03:05] src/tree/updater_prune.cc:74: tree pruning end, 1 roots, 56 extra nodes, 0 pruned nodes, max_depth=7\u001b[0m\n",
      "\u001b[34m[3]#011train-error:0.074722#011validation-error:0.251799\u001b[0m\n",
      "\u001b[34m[19:03:05] src/tree/updater_prune.cc:74: tree pruning end, 1 roots, 82 extra nodes, 0 pruned nodes, max_depth=7\u001b[0m\n",
      "\u001b[34m[4]#011train-error:0.066773#011validation-error:0.244604\u001b[0m\n",
      "\u001b[34m[19:03:05] src/tree/updater_prune.cc:74: tree pruning end, 1 roots, 62 extra nodes, 0 pruned nodes, max_depth=7\u001b[0m\n",
      "\u001b[34m[5]#011train-error:0.060413#011validation-error:0.230216\u001b[0m\n",
      "\u001b[34m[19:03:05] src/tree/updater_prune.cc:74: tree pruning end, 1 roots, 64 extra nodes, 0 pruned nodes, max_depth=7\u001b[0m\n",
      "\u001b[34m[6]#011train-error:0.058824#011validation-error:0.244604\u001b[0m\n",
      "\u001b[34m[19:03:05] src/tree/updater_prune.cc:74: tree pruning end, 1 roots, 58 extra nodes, 0 pruned nodes, max_depth=7\u001b[0m\n",
      "\u001b[34m[7]#011train-error:0.050874#011validation-error:0.244604\u001b[0m\n",
      "\u001b[34m[19:03:05] src/tree/updater_prune.cc:74: tree pruning end, 1 roots, 52 extra nodes, 0 pruned nodes, max_depth=7\u001b[0m\n",
      "\u001b[34m[8]#011train-error:0.046105#011validation-error:0.244604\u001b[0m\n",
      "\u001b[34m[19:03:05] src/tree/updater_prune.cc:74: tree pruning end, 1 roots, 44 extra nodes, 0 pruned nodes, max_depth=7\u001b[0m\n",
      "\u001b[34m[9]#011train-error:0.044515#011validation-error:0.23741\u001b[0m\n",
      "\u001b[34m[19:03:05] src/tree/updater_prune.cc:74: tree pruning end, 1 roots, 36 extra nodes, 0 pruned nodes, max_depth=7\u001b[0m\n",
      "\u001b[34m[10]#011train-error:0.039746#011validation-error:0.23741\u001b[0m\n",
      "\u001b[34m[19:03:05] src/tree/updater_prune.cc:74: tree pruning end, 1 roots, 36 extra nodes, 0 pruned nodes, max_depth=7\u001b[0m\n",
      "\u001b[34m[11]#011train-error:0.034976#011validation-error:0.23741\u001b[0m\n",
      "\u001b[34m[19:03:05] src/tree/updater_prune.cc:74: tree pruning end, 1 roots, 44 extra nodes, 0 pruned nodes, max_depth=7\u001b[0m\n",
      "\u001b[34m[12]#011train-error:0.027027#011validation-error:0.23741\u001b[0m\n",
      "\u001b[34m[19:03:05] src/tree/updater_prune.cc:74: tree pruning end, 1 roots, 48 extra nodes, 0 pruned nodes, max_depth=7\u001b[0m\n",
      "\u001b[34m[13]#011train-error:0.023847#011validation-error:0.258993\u001b[0m\n",
      "\u001b[34m[19:03:05] src/tree/updater_prune.cc:74: tree pruning end, 1 roots, 18 extra nodes, 0 pruned nodes, max_depth=7\u001b[0m\n",
      "\u001b[34m[14]#011train-error:0.022258#011validation-error:0.251799\u001b[0m\n",
      "\u001b[34m[19:03:05] src/tree/updater_prune.cc:74: tree pruning end, 1 roots, 28 extra nodes, 0 pruned nodes, max_depth=7\u001b[0m\n",
      "\u001b[34m[15]#011train-error:0.022258#011validation-error:0.251799\u001b[0m\n",
      "\u001b[34m[19:03:05] src/tree/updater_prune.cc:74: tree pruning end, 1 roots, 26 extra nodes, 0 pruned nodes, max_depth=7\u001b[0m\n",
      "\u001b[34m[16]#011train-error:0.020668#011validation-error:0.23741\u001b[0m\n",
      "\u001b[34m[19:03:05] src/tree/updater_prune.cc:74: tree pruning end, 1 roots, 44 extra nodes, 0 pruned nodes, max_depth=7\u001b[0m\n",
      "\u001b[34m[17]#011train-error:0.015898#011validation-error:0.23741\u001b[0m\n",
      "\u001b[34m[19:03:05] src/tree/updater_prune.cc:74: tree pruning end, 1 roots, 62 extra nodes, 0 pruned nodes, max_depth=7\u001b[0m\n",
      "\u001b[34m[18]#011train-error:0.012719#011validation-error:0.258993\u001b[0m\n",
      "\u001b[34m[19:03:05] src/tree/updater_prune.cc:74: tree pruning end, 1 roots, 28 extra nodes, 0 pruned nodes, max_depth=7\u001b[0m\n",
      "\u001b[34m[19]#011train-error:0.014308#011validation-error:0.258993\u001b[0m\n",
      "\u001b[34m[19:03:05] src/tree/updater_prune.cc:74: tree pruning end, 1 roots, 34 extra nodes, 0 pruned nodes, max_depth=7\u001b[0m\n",
      "\u001b[34m[20]#011train-error:0.012719#011validation-error:0.244604\u001b[0m\n",
      "\u001b[34m[19:03:05] src/tree/updater_prune.cc:74: tree pruning end, 1 roots, 56 extra nodes, 0 pruned nodes, max_depth=7\u001b[0m\n",
      "\u001b[34m[21]#011train-error:0.011129#011validation-error:0.244604\u001b[0m\n",
      "\u001b[34m[19:03:05] src/tree/updater_prune.cc:74: tree pruning end, 1 roots, 40 extra nodes, 0 pruned nodes, max_depth=7\u001b[0m\n",
      "\u001b[34m[22]#011train-error:0.009539#011validation-error:0.244604\u001b[0m\n",
      "\u001b[34m[19:03:05] src/tree/updater_prune.cc:74: tree pruning end, 1 roots, 40 extra nodes, 0 pruned nodes, max_depth=7\u001b[0m\n",
      "\u001b[34m[23]#011train-error:0.009539#011validation-error:0.258993\u001b[0m\n",
      "\u001b[34m[19:03:05] src/tree/updater_prune.cc:74: tree pruning end, 1 roots, 64 extra nodes, 0 pruned nodes, max_depth=7\u001b[0m\n",
      "\u001b[34m[24]#011train-error:0.00159#011validation-error:0.244604\u001b[0m\n",
      "\u001b[34m[19:03:05] src/tree/updater_prune.cc:74: tree pruning end, 1 roots, 34 extra nodes, 0 pruned nodes, max_depth=7\u001b[0m\n",
      "\u001b[34m[25]#011train-error:0.00159#011validation-error:0.251799\u001b[0m\n",
      "\u001b[34m[19:03:05] src/tree/updater_prune.cc:74: tree pruning end, 1 roots, 50 extra nodes, 0 pruned nodes, max_depth=7\u001b[0m\n",
      "\u001b[34m[26]#011train-error:0.00159#011validation-error:0.251799\u001b[0m\n",
      "\u001b[34m[19:03:05] src/tree/updater_prune.cc:74: tree pruning end, 1 roots, 36 extra nodes, 0 pruned nodes, max_depth=7\u001b[0m\n",
      "\u001b[34m[27]#011train-error:0.00159#011validation-error:0.23741\u001b[0m\n",
      "\u001b[34m[19:03:05] src/tree/updater_prune.cc:74: tree pruning end, 1 roots, 22 extra nodes, 0 pruned nodes, max_depth=7\u001b[0m\n",
      "\u001b[34m[28]#011train-error:0.00159#011validation-error:0.244604\u001b[0m\n",
      "\u001b[34m[19:03:05] src/tree/updater_prune.cc:74: tree pruning end, 1 roots, 36 extra nodes, 0 pruned nodes, max_depth=7\u001b[0m\n",
      "\u001b[34m[29]#011train-error:0.00159#011validation-error:0.23741\u001b[0m\n",
      "\u001b[34m[19:03:05] src/tree/updater_prune.cc:74: tree pruning end, 1 roots, 30 extra nodes, 0 pruned nodes, max_depth=7\u001b[0m\n",
      "\u001b[34m[30]#011train-error:0.00159#011validation-error:0.244604\u001b[0m\n",
      "\u001b[34m[19:03:05] src/tree/updater_prune.cc:74: tree pruning end, 1 roots, 46 extra nodes, 0 pruned nodes, max_depth=7\u001b[0m\n",
      "\u001b[34m[31]#011train-error:0.00159#011validation-error:0.244604\u001b[0m\n",
      "\u001b[34m[19:03:05] src/tree/updater_prune.cc:74: tree pruning end, 1 roots, 22 extra nodes, 0 pruned nodes, max_depth=7\u001b[0m\n",
      "\u001b[34m[32]#011train-error:0.00159#011validation-error:0.244604\u001b[0m\n",
      "\u001b[34m[19:03:05] src/tree/updater_prune.cc:74: tree pruning end, 1 roots, 22 extra nodes, 0 pruned nodes, max_depth=7\u001b[0m\n",
      "\u001b[34m[33]#011train-error:0.00159#011validation-error:0.251799\u001b[0m\n",
      "\u001b[34m[19:03:05] src/tree/updater_prune.cc:74: tree pruning end, 1 roots, 38 extra nodes, 0 pruned nodes, max_depth=7\u001b[0m\n",
      "\u001b[34m[34]#011train-error:0#011validation-error:0.251799\u001b[0m\n",
      "\u001b[34m[19:03:05] src/tree/updater_prune.cc:74: tree pruning end, 1 roots, 42 extra nodes, 0 pruned nodes, max_depth=7\u001b[0m\n",
      "\u001b[34m[35]#011train-error:0#011validation-error:0.251799\u001b[0m\n",
      "\u001b[34m[19:03:05] src/tree/updater_prune.cc:74: tree pruning end, 1 roots, 36 extra nodes, 0 pruned nodes, max_depth=7\u001b[0m\n",
      "\u001b[34m[36]#011train-error:0#011validation-error:0.251799\u001b[0m\n",
      "\u001b[34m[19:03:05] src/tree/updater_prune.cc:74: tree pruning end, 1 roots, 34 extra nodes, 0 pruned nodes, max_depth=7\u001b[0m\n",
      "\u001b[34m[37]#011train-error:0#011validation-error:0.251799\u001b[0m\n",
      "\u001b[34m[19:03:05] src/tree/updater_prune.cc:74: tree pruning end, 1 roots, 40 extra nodes, 0 pruned nodes, max_depth=7\u001b[0m\n",
      "\u001b[34m[38]#011train-error:0#011validation-error:0.251799\u001b[0m\n",
      "\u001b[34m[19:03:05] src/tree/updater_prune.cc:74: tree pruning end, 1 roots, 46 extra nodes, 0 pruned nodes, max_depth=7\u001b[0m\n",
      "\u001b[34m[39]#011train-error:0#011validation-error:0.251799\u001b[0m\n",
      "\u001b[34m[19:03:05] src/tree/updater_prune.cc:74: tree pruning end, 1 roots, 34 extra nodes, 0 pruned nodes, max_depth=7\u001b[0m\n",
      "\u001b[34m[40]#011train-error:0#011validation-error:0.244604\u001b[0m\n",
      "\u001b[34m[19:03:05] src/tree/updater_prune.cc:74: tree pruning end, 1 roots, 28 extra nodes, 0 pruned nodes, max_depth=7\u001b[0m\n",
      "\u001b[34m[41]#011train-error:0#011validation-error:0.23741\u001b[0m\n",
      "\u001b[34m[19:03:05] src/tree/updater_prune.cc:74: tree pruning end, 1 roots, 42 extra nodes, 0 pruned nodes, max_depth=7\u001b[0m\n",
      "\u001b[34m[42]#011train-error:0#011validation-error:0.23741\u001b[0m\n",
      "\u001b[34m[19:03:05] src/tree/updater_prune.cc:74: tree pruning end, 1 roots, 44 extra nodes, 0 pruned nodes, max_depth=7\u001b[0m\n",
      "\u001b[34m[43]#011train-error:0#011validation-error:0.23741\u001b[0m\n",
      "\u001b[34m[19:03:05] src/tree/updater_prune.cc:74: tree pruning end, 1 roots, 36 extra nodes, 0 pruned nodes, max_depth=7\u001b[0m\n",
      "\u001b[34m[44]#011train-error:0#011validation-error:0.23741\u001b[0m\n",
      "\u001b[34m[19:03:05] src/tree/updater_prune.cc:74: tree pruning end, 1 roots, 36 extra nodes, 0 pruned nodes, max_depth=7\u001b[0m\n",
      "\u001b[34m[45]#011train-error:0#011validation-error:0.230216\u001b[0m\n",
      "\u001b[34m[19:03:05] src/tree/updater_prune.cc:74: tree pruning end, 1 roots, 30 extra nodes, 0 pruned nodes, max_depth=7\u001b[0m\n",
      "\u001b[34m[46]#011train-error:0#011validation-error:0.230216\u001b[0m\n",
      "\u001b[34m[19:03:05] src/tree/updater_prune.cc:74: tree pruning end, 1 roots, 32 extra nodes, 0 pruned nodes, max_depth=7\u001b[0m\n",
      "\u001b[34m[47]#011train-error:0#011validation-error:0.23741\u001b[0m\n",
      "\u001b[34m[19:03:05] src/tree/updater_prune.cc:74: tree pruning end, 1 roots, 32 extra nodes, 0 pruned nodes, max_depth=7\u001b[0m\n",
      "\u001b[34m[48]#011train-error:0#011validation-error:0.23741\u001b[0m\n",
      "\u001b[34m[19:03:05] src/tree/updater_prune.cc:74: tree pruning end, 1 roots, 36 extra nodes, 0 pruned nodes, max_depth=7\u001b[0m\n",
      "\u001b[34m[49]#011train-error:0#011validation-error:0.230216\u001b[0m\n",
      "\u001b[34m[19:03:05] src/tree/updater_prune.cc:74: tree pruning end, 1 roots, 24 extra nodes, 0 pruned nodes, max_depth=7\u001b[0m\n",
      "\u001b[34m[50]#011train-error:0#011validation-error:0.23741\u001b[0m\n",
      "\u001b[34m[19:03:05] src/tree/updater_prune.cc:74: tree pruning end, 1 roots, 28 extra nodes, 0 pruned nodes, max_depth=7\u001b[0m\n",
      "\u001b[34m[51]#011train-error:0#011validation-error:0.251799\u001b[0m\n",
      "\u001b[34m[19:03:05] src/tree/updater_prune.cc:74: tree pruning end, 1 roots, 34 extra nodes, 0 pruned nodes, max_depth=7\u001b[0m\n",
      "\u001b[34m[52]#011train-error:0#011validation-error:0.23741\u001b[0m\n",
      "\u001b[34m[19:03:05] src/tree/updater_prune.cc:74: tree pruning end, 1 roots, 30 extra nodes, 0 pruned nodes, max_depth=7\u001b[0m\n",
      "\u001b[34m[53]#011train-error:0#011validation-error:0.251799\u001b[0m\n",
      "\u001b[34m[19:03:05] src/tree/updater_prune.cc:74: tree pruning end, 1 roots, 32 extra nodes, 0 pruned nodes, max_depth=7\u001b[0m\n",
      "\u001b[34m[54]#011train-error:0#011validation-error:0.244604\u001b[0m\n",
      "\u001b[34m[19:03:05] src/tree/updater_prune.cc:74: tree pruning end, 1 roots, 34 extra nodes, 0 pruned nodes, max_depth=7\u001b[0m\n",
      "\u001b[34m[55]#011train-error:0#011validation-error:0.244604\u001b[0m\n",
      "\u001b[34m[19:03:05] src/tree/updater_prune.cc:74: tree pruning end, 1 roots, 34 extra nodes, 0 pruned nodes, max_depth=7\u001b[0m\n",
      "\u001b[34m[56]#011train-error:0#011validation-error:0.244604\u001b[0m\n",
      "\u001b[34m[19:03:05] src/tree/updater_prune.cc:74: tree pruning end, 1 roots, 36 extra nodes, 0 pruned nodes, max_depth=5\u001b[0m\n",
      "\u001b[34m[57]#011train-error:0#011validation-error:0.244604\u001b[0m\n",
      "\u001b[34m[19:03:05] src/tree/updater_prune.cc:74: tree pruning end, 1 roots, 36 extra nodes, 0 pruned nodes, max_depth=6\u001b[0m\n",
      "\u001b[34m[58]#011train-error:0#011validation-error:0.23741\u001b[0m\n",
      "\u001b[34m[19:03:05] src/tree/updater_prune.cc:74: tree pruning end, 1 roots, 32 extra nodes, 0 pruned nodes, max_depth=7\u001b[0m\n",
      "\u001b[34m[59]#011train-error:0#011validation-error:0.230216\u001b[0m\n",
      "\u001b[34m[19:03:05] src/tree/updater_prune.cc:74: tree pruning end, 1 roots, 32 extra nodes, 0 pruned nodes, max_depth=7\u001b[0m\n",
      "\u001b[34m[60]#011train-error:0#011validation-error:0.230216\u001b[0m\n",
      "\u001b[34m[19:03:05] src/tree/updater_prune.cc:74: tree pruning end, 1 roots, 28 extra nodes, 0 pruned nodes, max_depth=7\u001b[0m\n",
      "\u001b[34m[61]#011train-error:0#011validation-error:0.230216\u001b[0m\n",
      "\u001b[34m[19:03:05] src/tree/updater_prune.cc:74: tree pruning end, 1 roots, 34 extra nodes, 0 pruned nodes, max_depth=7\u001b[0m\n",
      "\u001b[34m[62]#011train-error:0#011validation-error:0.230216\u001b[0m\n",
      "\u001b[34m[19:03:05] src/tree/updater_prune.cc:74: tree pruning end, 1 roots, 28 extra nodes, 0 pruned nodes, max_depth=7\u001b[0m\n",
      "\u001b[34m[63]#011train-error:0#011validation-error:0.230216\u001b[0m\n",
      "\u001b[34m[19:03:05] src/tree/updater_prune.cc:74: tree pruning end, 1 roots, 30 extra nodes, 0 pruned nodes, max_depth=5\u001b[0m\n",
      "\u001b[34m[64]#011train-error:0#011validation-error:0.23741\u001b[0m\n",
      "\u001b[34m[19:03:05] src/tree/updater_prune.cc:74: tree pruning end, 1 roots, 28 extra nodes, 0 pruned nodes, max_depth=7\u001b[0m\n",
      "\u001b[34m[65]#011train-error:0#011validation-error:0.23741\u001b[0m\n",
      "\u001b[34m[19:03:05] src/tree/updater_prune.cc:74: tree pruning end, 1 roots, 30 extra nodes, 0 pruned nodes, max_depth=7\u001b[0m\n",
      "\u001b[34m[66]#011train-error:0#011validation-error:0.23741\u001b[0m\n",
      "\u001b[34m[19:03:05] src/tree/updater_prune.cc:74: tree pruning end, 1 roots, 30 extra nodes, 0 pruned nodes, max_depth=7\u001b[0m\n",
      "\u001b[34m[67]#011train-error:0#011validation-error:0.23741\u001b[0m\n",
      "\u001b[34m[19:03:05] src/tree/updater_prune.cc:74: tree pruning end, 1 roots, 32 extra nodes, 0 pruned nodes, max_depth=7\u001b[0m\n",
      "\u001b[34m[68]#011train-error:0#011validation-error:0.23741\u001b[0m\n",
      "\u001b[34m[19:03:05] src/tree/updater_prune.cc:74: tree pruning end, 1 roots, 30 extra nodes, 0 pruned nodes, max_depth=6\u001b[0m\n",
      "\u001b[34m[69]#011train-error:0#011validation-error:0.23741\u001b[0m\n",
      "\u001b[34m[19:03:05] src/tree/updater_prune.cc:74: tree pruning end, 1 roots, 22 extra nodes, 0 pruned nodes, max_depth=7\u001b[0m\n",
      "\u001b[34m[70]#011train-error:0#011validation-error:0.23741\u001b[0m\n",
      "\u001b[34m[19:03:05] src/tree/updater_prune.cc:74: tree pruning end, 1 roots, 24 extra nodes, 0 pruned nodes, max_depth=7\u001b[0m\n",
      "\u001b[34m[71]#011train-error:0#011validation-error:0.23741\u001b[0m\n",
      "\u001b[34m[19:03:05] src/tree/updater_prune.cc:74: tree pruning end, 1 roots, 30 extra nodes, 0 pruned nodes, max_depth=7\u001b[0m\n",
      "\u001b[34m[72]#011train-error:0#011validation-error:0.23741\u001b[0m\n",
      "\u001b[34m[19:03:05] src/tree/updater_prune.cc:74: tree pruning end, 1 roots, 24 extra nodes, 0 pruned nodes, max_depth=7\u001b[0m\n",
      "\u001b[34m[73]#011train-error:0#011validation-error:0.23741\u001b[0m\n",
      "\u001b[34m[19:03:05] src/tree/updater_prune.cc:74: tree pruning end, 1 roots, 28 extra nodes, 0 pruned nodes, max_depth=7\u001b[0m\n",
      "\u001b[34m[74]#011train-error:0#011validation-error:0.230216\u001b[0m\n",
      "\u001b[34m[19:03:05] src/tree/updater_prune.cc:74: tree pruning end, 1 roots, 22 extra nodes, 0 pruned nodes, max_depth=7\u001b[0m\n",
      "\u001b[34m[75]#011train-error:0#011validation-error:0.23741\u001b[0m\n",
      "\u001b[34m[19:03:05] src/tree/updater_prune.cc:74: tree pruning end, 1 roots, 26 extra nodes, 0 pruned nodes, max_depth=7\u001b[0m\n",
      "\u001b[34m[76]#011train-error:0#011validation-error:0.23741\u001b[0m\n",
      "\u001b[34m[19:03:05] src/tree/updater_prune.cc:74: tree pruning end, 1 roots, 24 extra nodes, 0 pruned nodes, max_depth=5\u001b[0m\n",
      "\u001b[34m[77]#011train-error:0#011validation-error:0.23741\u001b[0m\n",
      "\u001b[34m[19:03:05] src/tree/updater_prune.cc:74: tree pruning end, 1 roots, 24 extra nodes, 0 pruned nodes, max_depth=6\u001b[0m\n",
      "\u001b[34m[78]#011train-error:0#011validation-error:0.23741\u001b[0m\n",
      "\u001b[34m[19:03:05] src/tree/updater_prune.cc:74: tree pruning end, 1 roots, 22 extra nodes, 0 pruned nodes, max_depth=5\u001b[0m\n",
      "\u001b[34m[79]#011train-error:0#011validation-error:0.23741\u001b[0m\n",
      "\u001b[34m[19:03:05] src/tree/updater_prune.cc:74: tree pruning end, 1 roots, 26 extra nodes, 0 pruned nodes, max_depth=5\u001b[0m\n",
      "\u001b[34m[80]#011train-error:0#011validation-error:0.23741\u001b[0m\n",
      "\u001b[34m[19:03:05] src/tree/updater_prune.cc:74: tree pruning end, 1 roots, 26 extra nodes, 0 pruned nodes, max_depth=6\u001b[0m\n",
      "\u001b[34m[81]#011train-error:0#011validation-error:0.23741\u001b[0m\n",
      "\u001b[34m[19:03:05] src/tree/updater_prune.cc:74: tree pruning end, 1 roots, 22 extra nodes, 0 pruned nodes, max_depth=7\u001b[0m\n",
      "\u001b[34m[82]#011train-error:0#011validation-error:0.23741\u001b[0m\n",
      "\u001b[34m[19:03:05] src/tree/updater_prune.cc:74: tree pruning end, 1 roots, 26 extra nodes, 0 pruned nodes, max_depth=5\u001b[0m\n",
      "\u001b[34m[83]#011train-error:0#011validation-error:0.23741\u001b[0m\n",
      "\u001b[34m[19:03:05] src/tree/updater_prune.cc:74: tree pruning end, 1 roots, 22 extra nodes, 0 pruned nodes, max_depth=5\u001b[0m\n",
      "\u001b[34m[84]#011train-error:0#011validation-error:0.23741\u001b[0m\n",
      "\u001b[34m[19:03:05] src/tree/updater_prune.cc:74: tree pruning end, 1 roots, 22 extra nodes, 0 pruned nodes, max_depth=6\u001b[0m\n",
      "\u001b[34m[85]#011train-error:0#011validation-error:0.23741\u001b[0m\n",
      "\u001b[34m[19:03:05] src/tree/updater_prune.cc:74: tree pruning end, 1 roots, 26 extra nodes, 0 pruned nodes, max_depth=6\u001b[0m\n",
      "\u001b[34m[86]#011train-error:0#011validation-error:0.23741\u001b[0m\n",
      "\u001b[34m[19:03:05] src/tree/updater_prune.cc:74: tree pruning end, 1 roots, 22 extra nodes, 0 pruned nodes, max_depth=7\u001b[0m\n",
      "\u001b[34m[87]#011train-error:0#011validation-error:0.23741\u001b[0m\n",
      "\u001b[34m[19:03:05] src/tree/updater_prune.cc:74: tree pruning end, 1 roots, 20 extra nodes, 0 pruned nodes, max_depth=7\u001b[0m\n",
      "\u001b[34m[88]#011train-error:0#011validation-error:0.23741\u001b[0m\n",
      "\u001b[34m[19:03:05] src/tree/updater_prune.cc:74: tree pruning end, 1 roots, 22 extra nodes, 0 pruned nodes, max_depth=6\u001b[0m\n",
      "\u001b[34m[89]#011train-error:0#011validation-error:0.23741\u001b[0m\n",
      "\u001b[34m[19:03:05] src/tree/updater_prune.cc:74: tree pruning end, 1 roots, 22 extra nodes, 0 pruned nodes, max_depth=4\u001b[0m\n",
      "\u001b[34m[90]#011train-error:0#011validation-error:0.23741\u001b[0m\n",
      "\u001b[34m[19:03:05] src/tree/updater_prune.cc:74: tree pruning end, 1 roots, 22 extra nodes, 0 pruned nodes, max_depth=7\u001b[0m\n",
      "\u001b[34m[91]#011train-error:0#011validation-error:0.244604\u001b[0m\n",
      "\u001b[34m[19:03:05] src/tree/updater_prune.cc:74: tree pruning end, 1 roots, 20 extra nodes, 0 pruned nodes, max_depth=7\u001b[0m\n",
      "\u001b[34m[92]#011train-error:0#011validation-error:0.244604\u001b[0m\n",
      "\u001b[34m[19:03:05] src/tree/updater_prune.cc:74: tree pruning end, 1 roots, 24 extra nodes, 0 pruned nodes, max_depth=5\u001b[0m\n",
      "\u001b[34m[93]#011train-error:0#011validation-error:0.244604\u001b[0m\n",
      "\u001b[34m[19:03:05] src/tree/updater_prune.cc:74: tree pruning end, 1 roots, 22 extra nodes, 0 pruned nodes, max_depth=6\u001b[0m\n",
      "\u001b[34m[94]#011train-error:0#011validation-error:0.244604\u001b[0m\n",
      "\u001b[34m[19:03:05] src/tree/updater_prune.cc:74: tree pruning end, 1 roots, 20 extra nodes, 0 pruned nodes, max_depth=6\u001b[0m\n",
      "\u001b[34m[95]#011train-error:0#011validation-error:0.244604\u001b[0m\n",
      "\u001b[34m[19:03:05] src/tree/updater_prune.cc:74: tree pruning end, 1 roots, 22 extra nodes, 0 pruned nodes, max_depth=7\u001b[0m\n",
      "\u001b[34m[96]#011train-error:0#011validation-error:0.23741\u001b[0m\n",
      "\u001b[34m[19:03:05] src/tree/updater_prune.cc:74: tree pruning end, 1 roots, 18 extra nodes, 0 pruned nodes, max_depth=6\u001b[0m\n",
      "\u001b[34m[97]#011train-error:0#011validation-error:0.244604\u001b[0m\n",
      "\u001b[34m[19:03:05] src/tree/updater_prune.cc:74: tree pruning end, 1 roots, 20 extra nodes, 0 pruned nodes, max_depth=6\u001b[0m\n",
      "\u001b[34m[98]#011train-error:0#011validation-error:0.244604\u001b[0m\n",
      "\u001b[34m[19:03:05] src/tree/updater_prune.cc:74: tree pruning end, 1 roots, 20 extra nodes, 0 pruned nodes, max_depth=7\u001b[0m\n",
      "\u001b[34m[99]#011train-error:0#011validation-error:0.244604\u001b[0m\n",
      "\n",
      "2020-09-04 19:03:17 Uploading - Uploading generated training model\n",
      "2020-09-04 19:03:17 Completed - Training job completed\n",
      "Training seconds: 66\n",
      "Billable seconds: 66\n"
     ]
    }
   ],
   "source": [
    "estimator.fit(data_channels)"
   ]
  },
  {
   "cell_type": "code",
   "execution_count": null,
   "metadata": {},
   "outputs": [],
   "source": []
  },
  {
   "cell_type": "code",
   "execution_count": 40,
   "metadata": {},
   "outputs": [
    {
     "name": "stderr",
     "output_type": "stream",
     "text": [
      "Parameter image will be renamed to image_uri in SageMaker Python SDK v2.\n"
     ]
    },
    {
     "name": "stdout",
     "output_type": "stream",
     "text": [
      "-----------------!"
     ]
    }
   ],
   "source": [
    "predictor = estimator.deploy(initial_instance_count=1,\n",
    "                             instance_type='ml.m4.xlarge',\n",
    "                             endpoint_name = 'v1-xgboost-diabetes')"
   ]
  },
  {
   "cell_type": "code",
   "execution_count": 41,
   "metadata": {},
   "outputs": [],
   "source": [
    "data = [4,9.4,0.5,2,0,2,1,2]"
   ]
  },
  {
   "cell_type": "code",
   "execution_count": 43,
   "metadata": {},
   "outputs": [],
   "source": [
    "from sagemaker.predictor import csv_serializer, json_deserializer\n",
    "predictor.serializer = csv_serializer\n",
    "predictor.deserializer = None"
   ]
  },
  {
   "cell_type": "code",
   "execution_count": 44,
   "metadata": {},
   "outputs": [],
   "source": [
    "result = predictor.predict(data)"
   ]
  },
  {
   "cell_type": "code",
   "execution_count": 45,
   "metadata": {},
   "outputs": [
    {
     "data": {
      "text/plain": [
       "0.0"
      ]
     },
     "execution_count": 45,
     "metadata": {},
     "output_type": "execute_result"
    }
   ],
   "source": [
    "np.round(float(result))"
   ]
  },
  {
   "cell_type": "code",
   "execution_count": null,
   "metadata": {},
   "outputs": [],
   "source": []
  },
  {
   "cell_type": "code",
   "execution_count": null,
   "metadata": {},
   "outputs": [],
   "source": []
  }
 ],
 "metadata": {
  "kernelspec": {
   "display_name": "conda_python3",
   "language": "python",
   "name": "conda_python3"
  },
  "language_info": {
   "codemirror_mode": {
    "name": "ipython",
    "version": 3
   },
   "file_extension": ".py",
   "mimetype": "text/x-python",
   "name": "python",
   "nbconvert_exporter": "python",
   "pygments_lexer": "ipython3",
   "version": "3.6.10"
  }
 },
 "nbformat": 4,
 "nbformat_minor": 4
}
